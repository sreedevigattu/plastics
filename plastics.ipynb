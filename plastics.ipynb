{
 "cells": [
  {
   "cell_type": "markdown",
   "source": [
    "## Where does the plastic in our oceans come from?"
   ],
   "metadata": {}
  },
  {
   "cell_type": "code",
   "execution_count": 2,
   "source": [
    "import pandas as pd\n",
    "import numpy as np\n",
    "\n",
    "from matplotlib import pyplot as plt"
   ],
   "outputs": [],
   "metadata": {}
  },
  {
   "cell_type": "markdown",
   "source": [
    "- https://ourworldindata.org/ocean-plastics\n",
    "- https://theoceancleanup.com/sources/\n",
    "- https://gramener.com/comicgenfriday/datasets\n",
    "\n",
    "- https://www.investopedia.com/terms/p/per-capita-gdp.asp\n",
    "\n",
    "Year - 2019\n",
    "\n",
    "Country Vs Mismanaged, Emitted to Ocean (Absolute, share)\n",
    "\n",
    "Country Vs Mismanaged, Emitted to Ocean per capita(Absolute)\n",
    "\n",
    "River Vs Emitted to Ocean\n",
    "\n",
    "#### --------\n",
    "Continent Vs Mismanaged, Emitted to Ocean (Absolute, share)\n",
    "\n",
    "Continent Vs Mismanaged per capita, Emitted to Ocean  per capita(Absolute)\n"
   ],
   "metadata": {}
  },
  {
   "cell_type": "markdown",
   "source": [
    "# plastic-waste"
   ],
   "metadata": {}
  },
  {
   "cell_type": "markdown",
   "source": [
    "## plastic-waste-mismanaged.csv"
   ],
   "metadata": {}
  },
  {
   "cell_type": "code",
   "execution_count": 3,
   "source": [
    "df_total = pd.read_csv('data/plastic-waste-mismanaged.csv')\n",
    "print(df_total.info())\n",
    "print(df_total.head())"
   ],
   "outputs": [
    {
     "output_type": "stream",
     "name": "stdout",
     "text": [
      "<class 'pandas.core.frame.DataFrame'>\n",
      "RangeIndex: 171 entries, 0 to 170\n",
      "Data columns (total 4 columns):\n",
      " #   Column                                         Non-Null Count  Dtype \n",
      "---  ------                                         --------------  ----- \n",
      " 0   Entity                                         171 non-null    object\n",
      " 1   Code                                           160 non-null    object\n",
      " 2   Year                                           171 non-null    int64 \n",
      " 3   Mismanaged plastic waste (metric tons year-1)  171 non-null    int64 \n",
      "dtypes: int64(2), object(2)\n",
      "memory usage: 5.5+ KB\n",
      "None\n",
      "                Entity Code  Year  \\\n",
      "0               Africa  NaN  2019   \n",
      "1              Albania  ALB  2019   \n",
      "2              Algeria  DZA  2019   \n",
      "3               Angola  AGO  2019   \n",
      "4  Antigua and Barbuda  ATG  2019   \n",
      "\n",
      "   Mismanaged plastic waste (metric tons year-1)  \n",
      "0                                       13690104  \n",
      "1                                          69833  \n",
      "2                                         764578  \n",
      "3                                         236946  \n",
      "4                                            627  \n"
     ]
    }
   ],
   "metadata": {}
  },
  {
   "cell_type": "code",
   "execution_count": 4,
   "source": [
    "df_total.rename(columns={'Mismanaged plastic waste (metric tons year-1)':'total_waste'}, inplace=True)\n",
    "print(f\"\\nMissing values: {df_total.isnull().sum()}\")\n",
    "print(df_total[df_total['Code'].isnull()])"
   ],
   "outputs": [
    {
     "output_type": "stream",
     "name": "stdout",
     "text": [
      "\n",
      "Missing values: Entity          0\n",
      "Code           11\n",
      "Year            0\n",
      "total_waste     0\n",
      "dtype: int64\n",
      "            Entity Code  Year  total_waste\n",
      "0           Africa  NaN  2019     13690104\n",
      "6             Asia  NaN  2019     39881167\n",
      "38           EU-27  NaN  2019       266588\n",
      "45          Europe  NaN  2019      1180718\n",
      "86           Macau  NaN  2019        14749\n",
      "96      Micronesia  NaN  2019          447\n",
      "107  North America  NaN  2019      1927484\n",
      "110        Oceania  NaN  2019       136506\n",
      "128   Saint Martin  NaN  2019            8\n",
      "137   Sint Maarten  NaN  2019            3\n",
      "143  South America  NaN  2019      4942514\n"
     ]
    }
   ],
   "metadata": {}
  },
  {
   "cell_type": "markdown",
   "source": [
    "## plastic-waste-emitted-to-the-ocean.csv"
   ],
   "metadata": {}
  },
  {
   "cell_type": "code",
   "execution_count": 5,
   "source": [
    "df_ocean = pd.read_csv(\"data/plastic-waste-emitted-to-the-ocean.csv\")\n",
    "print(df_ocean.info())\n",
    "df_ocean.head()"
   ],
   "outputs": [
    {
     "output_type": "stream",
     "name": "stdout",
     "text": [
      "<class 'pandas.core.frame.DataFrame'>\n",
      "RangeIndex: 171 entries, 0 to 170\n",
      "Data columns (total 4 columns):\n",
      " #   Column                                                      Non-Null Count  Dtype \n",
      "---  ------                                                      --------------  ----- \n",
      " 0   Entity                                                      171 non-null    object\n",
      " 1   Code                                                        160 non-null    object\n",
      " 2   Year                                                        171 non-null    int64 \n",
      " 3   Mismanaged waste emitted to the ocean (metric tons year-1)  171 non-null    int64 \n",
      "dtypes: int64(2), object(2)\n",
      "memory usage: 5.5+ KB\n",
      "None\n"
     ]
    },
    {
     "output_type": "execute_result",
     "data": {
      "text/html": [
       "<div>\n",
       "<style scoped>\n",
       "    .dataframe tbody tr th:only-of-type {\n",
       "        vertical-align: middle;\n",
       "    }\n",
       "\n",
       "    .dataframe tbody tr th {\n",
       "        vertical-align: top;\n",
       "    }\n",
       "\n",
       "    .dataframe thead th {\n",
       "        text-align: right;\n",
       "    }\n",
       "</style>\n",
       "<table border=\"1\" class=\"dataframe\">\n",
       "  <thead>\n",
       "    <tr style=\"text-align: right;\">\n",
       "      <th></th>\n",
       "      <th>Entity</th>\n",
       "      <th>Code</th>\n",
       "      <th>Year</th>\n",
       "      <th>Mismanaged waste emitted to the ocean (metric tons year-1)</th>\n",
       "    </tr>\n",
       "  </thead>\n",
       "  <tbody>\n",
       "    <tr>\n",
       "      <th>0</th>\n",
       "      <td>Africa</td>\n",
       "      <td>NaN</td>\n",
       "      <td>2019</td>\n",
       "      <td>78252</td>\n",
       "    </tr>\n",
       "    <tr>\n",
       "      <th>1</th>\n",
       "      <td>Albania</td>\n",
       "      <td>ALB</td>\n",
       "      <td>2019</td>\n",
       "      <td>1565</td>\n",
       "    </tr>\n",
       "    <tr>\n",
       "      <th>2</th>\n",
       "      <td>Algeria</td>\n",
       "      <td>DZA</td>\n",
       "      <td>2019</td>\n",
       "      <td>5774</td>\n",
       "    </tr>\n",
       "    <tr>\n",
       "      <th>3</th>\n",
       "      <td>Angola</td>\n",
       "      <td>AGO</td>\n",
       "      <td>2019</td>\n",
       "      <td>860</td>\n",
       "    </tr>\n",
       "    <tr>\n",
       "      <th>4</th>\n",
       "      <td>Antigua and Barbuda</td>\n",
       "      <td>ATG</td>\n",
       "      <td>2019</td>\n",
       "      <td>2</td>\n",
       "    </tr>\n",
       "  </tbody>\n",
       "</table>\n",
       "</div>"
      ],
      "text/plain": [
       "                Entity Code  Year  \\\n",
       "0               Africa  NaN  2019   \n",
       "1              Albania  ALB  2019   \n",
       "2              Algeria  DZA  2019   \n",
       "3               Angola  AGO  2019   \n",
       "4  Antigua and Barbuda  ATG  2019   \n",
       "\n",
       "   Mismanaged waste emitted to the ocean (metric tons year-1)  \n",
       "0                                              78252           \n",
       "1                                               1565           \n",
       "2                                               5774           \n",
       "3                                                860           \n",
       "4                                                  2           "
      ]
     },
     "metadata": {},
     "execution_count": 5
    }
   ],
   "metadata": {}
  },
  {
   "cell_type": "code",
   "execution_count": 6,
   "source": [
    "df_ocean['Year'].value_counts()"
   ],
   "outputs": [
    {
     "output_type": "execute_result",
     "data": {
      "text/plain": [
       "2019    171\n",
       "Name: Year, dtype: int64"
      ]
     },
     "metadata": {},
     "execution_count": 6
    }
   ],
   "metadata": {}
  },
  {
   "cell_type": "code",
   "execution_count": 7,
   "source": [
    "df_ocean.rename(columns={'Mismanaged waste emitted to the ocean (metric tons year-1)':'ocean_waste'}, inplace=True)\n",
    "print(f\"\\nMissing values: {df_ocean.isnull().sum()}\")\n",
    "print(df_ocean[df_ocean['Code'].isnull()])"
   ],
   "outputs": [
    {
     "output_type": "stream",
     "name": "stdout",
     "text": [
      "\n",
      "Missing values: Entity          0\n",
      "Code           11\n",
      "Year            0\n",
      "ocean_waste     0\n",
      "dtype: int64\n",
      "            Entity Code  Year  ocean_waste\n",
      "0           Africa  NaN  2019        78252\n",
      "6             Asia  NaN  2019       793298\n",
      "38           EU-27  NaN  2019         2157\n",
      "45          Europe  NaN  2019         5832\n",
      "86           Macau  NaN  2019          341\n",
      "96      Micronesia  NaN  2019           37\n",
      "107  North America  NaN  2019        44067\n",
      "110        Oceania  NaN  2019         3631\n",
      "128   Saint Martin  NaN  2019            0\n",
      "137   Sint Maarten  NaN  2019            0\n",
      "143  South America  NaN  2019        54000\n"
     ]
    }
   ],
   "metadata": {}
  },
  {
   "cell_type": "code",
   "execution_count": 8,
   "source": [
    "\n",
    "df_ocean.sort_values(by='ocean_waste', ascending=False, inplace=True)\n",
    "df_ocean.head(10)"
   ],
   "outputs": [
    {
     "output_type": "execute_result",
     "data": {
      "text/html": [
       "<div>\n",
       "<style scoped>\n",
       "    .dataframe tbody tr th:only-of-type {\n",
       "        vertical-align: middle;\n",
       "    }\n",
       "\n",
       "    .dataframe tbody tr th {\n",
       "        vertical-align: top;\n",
       "    }\n",
       "\n",
       "    .dataframe thead th {\n",
       "        text-align: right;\n",
       "    }\n",
       "</style>\n",
       "<table border=\"1\" class=\"dataframe\">\n",
       "  <thead>\n",
       "    <tr style=\"text-align: right;\">\n",
       "      <th></th>\n",
       "      <th>Entity</th>\n",
       "      <th>Code</th>\n",
       "      <th>Year</th>\n",
       "      <th>ocean_waste</th>\n",
       "    </tr>\n",
       "  </thead>\n",
       "  <tbody>\n",
       "    <tr>\n",
       "      <th>168</th>\n",
       "      <td>World</td>\n",
       "      <td>OWID_WRL</td>\n",
       "      <td>2019</td>\n",
       "      <td>979458</td>\n",
       "    </tr>\n",
       "    <tr>\n",
       "      <th>6</th>\n",
       "      <td>Asia</td>\n",
       "      <td>NaN</td>\n",
       "      <td>2019</td>\n",
       "      <td>793298</td>\n",
       "    </tr>\n",
       "    <tr>\n",
       "      <th>118</th>\n",
       "      <td>Philippines</td>\n",
       "      <td>PHL</td>\n",
       "      <td>2019</td>\n",
       "      <td>356371</td>\n",
       "    </tr>\n",
       "    <tr>\n",
       "      <th>66</th>\n",
       "      <td>India</td>\n",
       "      <td>IND</td>\n",
       "      <td>2019</td>\n",
       "      <td>126513</td>\n",
       "    </tr>\n",
       "    <tr>\n",
       "      <th>0</th>\n",
       "      <td>Africa</td>\n",
       "      <td>NaN</td>\n",
       "      <td>2019</td>\n",
       "      <td>78252</td>\n",
       "    </tr>\n",
       "    <tr>\n",
       "      <th>88</th>\n",
       "      <td>Malaysia</td>\n",
       "      <td>MYS</td>\n",
       "      <td>2019</td>\n",
       "      <td>73098</td>\n",
       "    </tr>\n",
       "    <tr>\n",
       "      <th>25</th>\n",
       "      <td>China</td>\n",
       "      <td>CHN</td>\n",
       "      <td>2019</td>\n",
       "      <td>70707</td>\n",
       "    </tr>\n",
       "    <tr>\n",
       "      <th>67</th>\n",
       "      <td>Indonesia</td>\n",
       "      <td>IDN</td>\n",
       "      <td>2019</td>\n",
       "      <td>56333</td>\n",
       "    </tr>\n",
       "    <tr>\n",
       "      <th>143</th>\n",
       "      <td>South America</td>\n",
       "      <td>NaN</td>\n",
       "      <td>2019</td>\n",
       "      <td>54000</td>\n",
       "    </tr>\n",
       "    <tr>\n",
       "      <th>107</th>\n",
       "      <td>North America</td>\n",
       "      <td>NaN</td>\n",
       "      <td>2019</td>\n",
       "      <td>44067</td>\n",
       "    </tr>\n",
       "  </tbody>\n",
       "</table>\n",
       "</div>"
      ],
      "text/plain": [
       "            Entity      Code  Year  ocean_waste\n",
       "168          World  OWID_WRL  2019       979458\n",
       "6             Asia       NaN  2019       793298\n",
       "118    Philippines       PHL  2019       356371\n",
       "66           India       IND  2019       126513\n",
       "0           Africa       NaN  2019        78252\n",
       "88        Malaysia       MYS  2019        73098\n",
       "25           China       CHN  2019        70707\n",
       "67       Indonesia       IDN  2019        56333\n",
       "143  South America       NaN  2019        54000\n",
       "107  North America       NaN  2019        44067"
      ]
     },
     "metadata": {},
     "execution_count": 8
    }
   ],
   "metadata": {}
  },
  {
   "cell_type": "markdown",
   "source": [
    "## Merge plastic-waste-mismanaged.csv and plastic-waste-emitted-to-the-ocean.csv"
   ],
   "metadata": {}
  },
  {
   "cell_type": "code",
   "execution_count": 9,
   "source": [
    "df_mismanaged = df_total.merge(df_ocean, how='inner', on=['Entity','Code','Year'])\n",
    "df_mismanaged['ocean_waste_%'] = round(100*df_mismanaged['ocean_waste']/df_mismanaged['total_waste'])\n",
    "print(df_mismanaged.info())\n",
    "df_mismanaged.head()"
   ],
   "outputs": [
    {
     "output_type": "stream",
     "name": "stdout",
     "text": [
      "<class 'pandas.core.frame.DataFrame'>\n",
      "Int64Index: 171 entries, 0 to 170\n",
      "Data columns (total 6 columns):\n",
      " #   Column         Non-Null Count  Dtype  \n",
      "---  ------         --------------  -----  \n",
      " 0   Entity         171 non-null    object \n",
      " 1   Code           160 non-null    object \n",
      " 2   Year           171 non-null    int64  \n",
      " 3   total_waste    171 non-null    int64  \n",
      " 4   ocean_waste    171 non-null    int64  \n",
      " 5   ocean_waste_%  171 non-null    float64\n",
      "dtypes: float64(1), int64(3), object(2)\n",
      "memory usage: 9.4+ KB\n",
      "None\n"
     ]
    },
    {
     "output_type": "execute_result",
     "data": {
      "text/html": [
       "<div>\n",
       "<style scoped>\n",
       "    .dataframe tbody tr th:only-of-type {\n",
       "        vertical-align: middle;\n",
       "    }\n",
       "\n",
       "    .dataframe tbody tr th {\n",
       "        vertical-align: top;\n",
       "    }\n",
       "\n",
       "    .dataframe thead th {\n",
       "        text-align: right;\n",
       "    }\n",
       "</style>\n",
       "<table border=\"1\" class=\"dataframe\">\n",
       "  <thead>\n",
       "    <tr style=\"text-align: right;\">\n",
       "      <th></th>\n",
       "      <th>Entity</th>\n",
       "      <th>Code</th>\n",
       "      <th>Year</th>\n",
       "      <th>total_waste</th>\n",
       "      <th>ocean_waste</th>\n",
       "      <th>ocean_waste_%</th>\n",
       "    </tr>\n",
       "  </thead>\n",
       "  <tbody>\n",
       "    <tr>\n",
       "      <th>0</th>\n",
       "      <td>Africa</td>\n",
       "      <td>NaN</td>\n",
       "      <td>2019</td>\n",
       "      <td>13690104</td>\n",
       "      <td>78252</td>\n",
       "      <td>1.0</td>\n",
       "    </tr>\n",
       "    <tr>\n",
       "      <th>1</th>\n",
       "      <td>Albania</td>\n",
       "      <td>ALB</td>\n",
       "      <td>2019</td>\n",
       "      <td>69833</td>\n",
       "      <td>1565</td>\n",
       "      <td>2.0</td>\n",
       "    </tr>\n",
       "    <tr>\n",
       "      <th>2</th>\n",
       "      <td>Algeria</td>\n",
       "      <td>DZA</td>\n",
       "      <td>2019</td>\n",
       "      <td>764578</td>\n",
       "      <td>5774</td>\n",
       "      <td>1.0</td>\n",
       "    </tr>\n",
       "    <tr>\n",
       "      <th>3</th>\n",
       "      <td>Angola</td>\n",
       "      <td>AGO</td>\n",
       "      <td>2019</td>\n",
       "      <td>236946</td>\n",
       "      <td>860</td>\n",
       "      <td>0.0</td>\n",
       "    </tr>\n",
       "    <tr>\n",
       "      <th>4</th>\n",
       "      <td>Antigua and Barbuda</td>\n",
       "      <td>ATG</td>\n",
       "      <td>2019</td>\n",
       "      <td>627</td>\n",
       "      <td>2</td>\n",
       "      <td>0.0</td>\n",
       "    </tr>\n",
       "  </tbody>\n",
       "</table>\n",
       "</div>"
      ],
      "text/plain": [
       "                Entity Code  Year  total_waste  ocean_waste  ocean_waste_%\n",
       "0               Africa  NaN  2019     13690104        78252            1.0\n",
       "1              Albania  ALB  2019        69833         1565            2.0\n",
       "2              Algeria  DZA  2019       764578         5774            1.0\n",
       "3               Angola  AGO  2019       236946          860            0.0\n",
       "4  Antigua and Barbuda  ATG  2019          627            2            0.0"
      ]
     },
     "metadata": {},
     "execution_count": 9
    }
   ],
   "metadata": {}
  },
  {
   "cell_type": "code",
   "execution_count": 10,
   "source": [
    "print(f\"\\nMissing values: {df_mismanaged.isnull().sum()}\")\n",
    "print(df_mismanaged[df_mismanaged['Code'].isnull()])"
   ],
   "outputs": [
    {
     "output_type": "stream",
     "name": "stdout",
     "text": [
      "\n",
      "Missing values: Entity            0\n",
      "Code             11\n",
      "Year              0\n",
      "total_waste       0\n",
      "ocean_waste       0\n",
      "ocean_waste_%     0\n",
      "dtype: int64\n",
      "            Entity Code  Year  total_waste  ocean_waste  ocean_waste_%\n",
      "0           Africa  NaN  2019     13690104        78252            1.0\n",
      "6             Asia  NaN  2019     39881167       793298            2.0\n",
      "38           EU-27  NaN  2019       266588         2157            1.0\n",
      "45          Europe  NaN  2019      1180718         5832            0.0\n",
      "86           Macau  NaN  2019        14749          341            2.0\n",
      "96      Micronesia  NaN  2019          447           37            8.0\n",
      "107  North America  NaN  2019      1927484        44067            2.0\n",
      "110        Oceania  NaN  2019       136506         3631            3.0\n",
      "128   Saint Martin  NaN  2019            8            0            0.0\n",
      "137   Sint Maarten  NaN  2019            3            0            0.0\n",
      "143  South America  NaN  2019      4942514        54000            1.0\n"
     ]
    }
   ],
   "metadata": {}
  },
  {
   "cell_type": "markdown",
   "source": [
    "### Retain only the country data\n",
    "The dataset also contains information at continent, some areas (Code = NaN) and world level (Code = OWID_WRL). Remove these rows\n",
    "- Europe &  EU 27: Combine these 2 (TODO)\n",
    "    - EU 27 - 27 countries that are part of EU\n",
    "    - Europe - 23 Countries are not part of the European Union"
   ],
   "metadata": {}
  },
  {
   "cell_type": "code",
   "execution_count": 11,
   "source": [
    "df_ = df_mismanaged[(df_mismanaged['Code'].isnull()) | (df_mismanaged['Code'] == 'OWID_WRL') ]\n",
    "print(df_.shape[0])\n",
    "print(df_)"
   ],
   "outputs": [
    {
     "output_type": "stream",
     "name": "stdout",
     "text": [
      "12\n",
      "            Entity      Code  Year  total_waste  ocean_waste  ocean_waste_%\n",
      "0           Africa       NaN  2019     13690104        78252            1.0\n",
      "6             Asia       NaN  2019     39881167       793298            2.0\n",
      "38           EU-27       NaN  2019       266588         2157            1.0\n",
      "45          Europe       NaN  2019      1180718         5832            0.0\n",
      "86           Macau       NaN  2019        14749          341            2.0\n",
      "96      Micronesia       NaN  2019          447           37            8.0\n",
      "107  North America       NaN  2019      1927484        44067            2.0\n",
      "110        Oceania       NaN  2019       136506         3631            3.0\n",
      "128   Saint Martin       NaN  2019            8            0            0.0\n",
      "137   Sint Maarten       NaN  2019            3            0            0.0\n",
      "143  South America       NaN  2019      4942514        54000            1.0\n",
      "168          World  OWID_WRL  2019     61773700       979458            2.0\n"
     ]
    }
   ],
   "metadata": {}
  },
  {
   "cell_type": "code",
   "execution_count": 12,
   "source": [
    "from utils import annotate"
   ],
   "outputs": [],
   "metadata": {}
  },
  {
   "cell_type": "code",
   "execution_count": 13,
   "source": [
    "df_mismanaged_continent = df_mismanaged[df_mismanaged['Code'].isnull()].sort_values(by='total_waste', ascending=False)\n",
    "ax = df_mismanaged_continent[:7].plot.bar(x='Entity', y=['total_waste', 'ocean_waste'], logy=True, figsize=(20,6))\n",
    "annotate(ax)"
   ],
   "outputs": [
    {
     "output_type": "display_data",
     "data": {
      "image/png": "[encoded data removed]",
      "text/plain": [
       "<Figure size 1440x432 with 1 Axes>"
      ]
     },
     "metadata": {
      "needs_background": "light"
     }
    }
   ],
   "metadata": {}
  },
  {
   "cell_type": "code",
   "execution_count": 14,
   "source": [
    "df_mismanaged_countries = df_mismanaged[~((df_mismanaged['Code'].isnull()) | (df_mismanaged['Code'] == 'OWID_WRL'))]"
   ],
   "outputs": [],
   "metadata": {}
  },
  {
   "cell_type": "code",
   "execution_count": 15,
   "source": [
    "# plot\n",
    "plt.figure(figsize=(20, 5))\n",
    "\n",
    "ax = plt.subplot(1,2,1)\n",
    "ax = df_mismanaged_countries.sort_values(by='total_waste', ascending=False)[:10].plot.bar(x='Entity', y=['total_waste', 'ocean_waste'], xlabel='', logy=True, ax=ax)\n",
    "annotate(ax, 'Countries Vs Total Mismanaged Waste - Top 10', divideby=1000)\n",
    "\n",
    "ax = plt.subplot(1,2,2)\n",
    "ax = df_mismanaged_countries.sort_values(by='ocean_waste', ascending=False)[:10].plot.bar(x='Entity', y=['total_waste', 'ocean_waste'], xlabel='', logy=True, ax=ax)\n",
    "annotate(ax, 'Countries Vs Total Mismanaged Waste emitted to ocean - Top 10', divideby=1000)\n",
    "\n",
    "plt.show()"
   ],
   "outputs": [
    {
     "output_type": "display_data",
     "data": {
      "image/png": "[encoded data removed]",
      "text/plain": [
       "<Figure size 1440x360 with 2 Axes>"
      ]
     },
     "metadata": {
      "needs_background": "light"
     }
    }
   ],
   "metadata": {}
  },
  {
   "cell_type": "code",
   "execution_count": 16,
   "source": [
    "top_ocean_waste_countries = df_mismanaged_countries.sort_values(by='ocean_waste', ascending=False)[:10]['Entity'].tolist()\n",
    "print(top_ocean_waste_countries)"
   ],
   "outputs": [
    {
     "output_type": "stream",
     "name": "stdout",
     "text": [
      "['Philippines', 'India', 'Malaysia', 'China', 'Indonesia', 'Brazil', 'Vietnam', 'Bangladesh', 'Thailand', 'Nigeria']\n"
     ]
    }
   ],
   "metadata": {}
  },
  {
   "cell_type": "code",
   "execution_count": 17,
   "source": [
    "# This should be for the countries that are top ocean wasters\n",
    "df_top_ocean_waste_countries = df_mismanaged_countries.sort_values(by='ocean_waste_%', ascending=False)[df_mismanaged_countries['Entity'].isin(top_ocean_waste_countries)]\n",
    "ax = df_top_ocean_waste_countries.plot.bar(x='Entity', y=['ocean_waste_%'], figsize=(15,6))\n",
    "annotate(ax, 'Countries Vs %age of Toal mismanged waste emitted to ocean', strformat='%')"
   ],
   "outputs": [
    {
     "output_type": "stream",
     "name": "stderr",
     "text": [
      "/var/folders/6d/t1t1r89n1q95d2ztv2qstyb40000gr/T/ipykernel_1132/2480162360.py:2: UserWarning: Boolean Series key will be reindexed to match DataFrame index.\n",
      "  df_top_ocean_waste_countries = df_mismanaged_countries.sort_values(by='ocean_waste_%', ascending=False)[df_mismanaged_countries['Entity'].isin(top_ocean_waste_countries)]\n"
     ]
    },
    {
     "output_type": "display_data",
     "data": {
      "image/png": "[encoded data removed]",
      "text/plain": [
       "<Figure size 1080x432 with 1 Axes>"
      ]
     },
     "metadata": {
      "needs_background": "light"
     }
    }
   ],
   "metadata": {}
  },
  {
   "cell_type": "code",
   "execution_count": 20,
   "source": [
    "print(df_mismanaged_countries.head())\n",
    "df_mismanaged_countries.to_csv('out/plastic-waste.csv')"
   ],
   "outputs": [
    {
     "output_type": "stream",
     "name": "stdout",
     "text": [
      "                Entity Code  Year  total_waste  ocean_waste  ocean_waste_%\n",
      "1              Albania  ALB  2019        69833         1565            2.0\n",
      "2              Algeria  DZA  2019       764578         5774            1.0\n",
      "3               Angola  AGO  2019       236946          860            0.0\n",
      "4  Antigua and Barbuda  ATG  2019          627            2            0.0\n",
      "5            Argentina  ARG  2019       465808         4137            1.0\n"
     ]
    }
   ],
   "metadata": {}
  },
  {
   "cell_type": "code",
   "execution_count": null,
   "source": [
    "import geopandas as gpd\n",
    "\n",
    "df_world = gpd.read_file(gpd.datasets.get_path('naturalearth_lowres'))\n",
    "print(f\"Type of df_world: {type(df_world)} Active geometry: {df_world.geometry.name}\\n\")\n",
    "print(f\"Value counts of geometry column: {df_world.geometry.geom_type.value_counts()}\\n\")\n",
    "df_world.head()"
   ],
   "outputs": [],
   "metadata": {}
  },
  {
   "cell_type": "code",
   "execution_count": null,
   "source": [
    "print(df_top_ocean_waste_countries.shape)\n",
    "df_top_ocean_waste_countries_geo = df_world.merge(df_top_ocean_waste_countries, left_on='name', right_on='Entity', how='right')\n",
    "df_top_ocean_waste_countries_geo['centroid'] = df_top_ocean_waste_countries_geo.centroid\n",
    "print(df_top_ocean_waste_countries_geo.shape)\n",
    "print(df_top_ocean_waste_countries_geo.info())\n",
    "df_top_ocean_waste_countries_geo"
   ],
   "outputs": [],
   "metadata": {}
  },
  {
   "cell_type": "code",
   "execution_count": null,
   "source": [
    "print(df_mismanaged_countries.shape)\n",
    "df_mismanaged_countries_geo = df_world.merge(df_mismanaged_countries, left_on='name', right_on='Entity', how='inner')\n",
    "df_mismanaged_countries_geo['centroid'] = df_mismanaged_countries_geo.centroid\n",
    "print(df_mismanaged_countries_geo.info())\n",
    "print(df_mismanaged_countries_geo.shape)\n",
    "df_mismanaged_countries_geo"
   ],
   "outputs": [],
   "metadata": {}
  },
  {
   "cell_type": "code",
   "execution_count": null,
   "source": [
    "print(df_mismanaged_countries.shape)\n",
    "df_mismanaged_countries_geo = df_world.merge(df_mismanaged_countries, left_on='name', right_on='Entity', how='inner')\n",
    "df_mismanaged_countries_geo['centroid'] = df_mismanaged_countries_geo.centroid\n",
    "print(df_mismanaged_countries_geo.info())\n",
    "print(df_mismanaged_countries_geo.shape)\n",
    "df_mismanaged_countries_geo"
   ],
   "outputs": [],
   "metadata": {}
  },
  {
   "cell_type": "code",
   "execution_count": null,
   "source": [
    "from utils import addColorbar\n",
    "\n",
    "ax, cax = addColorbar()\n",
    "ax = df_world[\"geometry\"].boundary.plot(ax=ax, figsize=(20,16))\n",
    "df_mismanaged_countries_geo.plot( column=\"ocean_waste\", ax=ax, cax=cax, cmap='OrRd', \n",
    "                     legend=True, legend_kwds={\"label\": \"ocean_waste\"})\n",
    "df_top_ocean_waste_countries_geo.apply(lambda x: ax.annotate(text=x['Entity'], xy=(x['centroid'].coords[0][0],x['centroid'].coords[0][1]-5), ha='center'), axis=1)                    \n",
    "ax.set_title(\"Countries Vs Total mismanaged waste\")"
   ],
   "outputs": [],
   "metadata": {}
  },
  {
   "cell_type": "markdown",
   "source": [
    "- TODO: Show zoomed view of Asia"
   ],
   "metadata": {}
  },
  {
   "cell_type": "markdown",
   "source": [
    "## plastics-top-rivers.csv"
   ],
   "metadata": {}
  },
  {
   "cell_type": "code",
   "execution_count": null,
   "source": [
    "df_rivers = pd.read_csv(\"data/plastics-top-rivers.csv\")\n",
    "print(df_rivers.info())\n",
    "df_rivers.head()"
   ],
   "outputs": [],
   "metadata": {}
  },
  {
   "cell_type": "code",
   "execution_count": null,
   "source": [
    "df_rivers['Year'].value_counts()"
   ],
   "outputs": [],
   "metadata": {}
  },
  {
   "cell_type": "code",
   "execution_count": null,
   "source": [
    "df_rivers['Entity'][0:10]"
   ],
   "outputs": [],
   "metadata": {}
  },
  {
   "cell_type": "code",
   "execution_count": null,
   "source": [
    "def getCountry(entity):\n",
    "    if '(' in entity and ') in entity':\n",
    "        return entity.split('(')[1].split(')')[0]\n",
    "    else:\n",
    "        return '-'\n",
    "\n",
    "df_rivers['country'] = df_rivers['Entity'].apply(lambda x: getCountry(x))\n",
    "df_rivers.head(10)"
   ],
   "outputs": [],
   "metadata": {}
  },
  {
   "cell_type": "code",
   "execution_count": null,
   "source": [
    "df_rivers.rename(columns={'Share of global plastics emitted to ocean':'plastics'}, inplace=True)\n",
    "df_rivers.sort_values(by='plastics', ascending=False, inplace=True)\n",
    "df_rivers.head(10)"
   ],
   "outputs": [],
   "metadata": {}
  },
  {
   "cell_type": "code",
   "execution_count": null,
   "source": [
    "df_rivers[df_rivers['country']=='-']"
   ],
   "outputs": [],
   "metadata": {}
  },
  {
   "cell_type": "code",
   "execution_count": null,
   "source": [
    "df_rivers[:10].plot.bar(x='Entity', y='plastics', logy=True, figsize=(20,6))"
   ],
   "outputs": [],
   "metadata": {}
  },
  {
   "cell_type": "code",
   "execution_count": null,
   "source": [
    "df_rivers_country = df_rivers.groupby(by='country').agg({'plastics':np.sum}).sort_values(by='plastics', ascending=False)\n",
    "df_rivers_country"
   ],
   "outputs": [],
   "metadata": {}
  },
  {
   "cell_type": "code",
   "execution_count": null,
   "source": [
    "df_rivers_country[:10].plot.bar(logy=True, figsize=(20,6))"
   ],
   "outputs": [],
   "metadata": {}
  },
  {
   "cell_type": "markdown",
   "source": [
    "## total waste emitted to the ocean : waste from rivers"
   ],
   "metadata": {}
  },
  {
   "cell_type": "markdown",
   "source": [
    "# plastic-waste-per-capita"
   ],
   "metadata": {}
  },
  {
   "cell_type": "markdown",
   "source": [
    "## ocean-plastic-waste-per-capita-vs-gdp.csv"
   ],
   "metadata": {}
  },
  {
   "cell_type": "code",
   "execution_count": null,
   "source": [
    "df_gdp = pd.read_csv('data/ocean-plastic-waste-per-capita-vs-gdp.csv')\n",
    "df_gdp = df_gdp[(df_gdp['Year']==2019) & (~(df_gdp['Code'].isnull())) & (df_gdp['Entity']!='World')]\n",
    "df_gdp.reset_index(inplace=True)\n",
    "df_gdp.drop(columns=['index', 'Continent'],inplace=True)\n",
    "df_gdp.rename(columns={'Mismanaged plastic waste to ocean per capita (kg per year)':'waste_per_capita', 'GDP per capita, PPP (constant 2017 international $)':'gdp'}, inplace=True)\n",
    "print(df_gdp.info())\n",
    "df_gdp.head()"
   ],
   "outputs": [],
   "metadata": {}
  },
  {
   "cell_type": "code",
   "execution_count": null,
   "source": [
    "df_gdp[df_gdp['waste_per_capita'].isnull()].shape"
   ],
   "outputs": [],
   "metadata": {}
  },
  {
   "cell_type": "markdown",
   "source": [
    "Merge the df_waste, df_gdp"
   ],
   "metadata": {}
  },
  {
   "cell_type": "code",
   "execution_count": null,
   "source": [
    "df_waste_gdp = df_waste.merge(df_gdp, how='inner', on='Entity')\n",
    "print(df_waste_gdp.info())\n",
    "df_waste_gdp.head()"
   ],
   "outputs": [],
   "metadata": {}
  },
  {
   "cell_type": "code",
   "execution_count": null,
   "source": [
    "plt.figure(figsize=(20, 16))\n",
    "\n",
    "ax = plt.subplot(3,3,1)\n",
    "ax = df_waste_gdp.sort_values(by='waste', ascending=False)[:5].plot.bar(x='Entity', y='waste', ax=ax)\n",
    "annotate(ax)\n",
    "\n",
    "ax = plt.subplot(3,3,2)\n",
    "df_waste_gdp.sort_values(by='waste_per_capita', ascending=False)[:5].plot.bar(x='Entity', y='waste_per_capita', ax=ax)\n",
    "annotate(ax)\n",
    "\n",
    "ax = plt.subplot(3,3,3)\n",
    "ax = df_waste_gdp.sort_values(by='gdp', ascending=True)[:5].plot.bar(x='Entity', y='gdp', ax=ax)\n",
    "annotate(ax)\n",
    "\n",
    "plt.show()"
   ],
   "outputs": [],
   "metadata": {}
  },
  {
   "cell_type": "code",
   "execution_count": null,
   "source": [
    "df_waste_gdp.sort_values(by='waste', ascending=False)[:5]"
   ],
   "outputs": [],
   "metadata": {}
  },
  {
   "cell_type": "code",
   "execution_count": null,
   "source": [
    "df_waste_gdp.sort_values(by='gdp', ascending=False)[:5]"
   ],
   "outputs": [],
   "metadata": {}
  }
 ],
 "metadata": {
  "orig_nbformat": 4,
  "language_info": {
   "name": "python",
   "version": "3.9.1",
   "mimetype": "text/x-python",
   "codemirror_mode": {
    "name": "ipython",
    "version": 3
   },
   "pygments_lexer": "ipython3",
   "nbconvert_exporter": "python",
   "file_extension": ".py"
  },
  "kernelspec": {
   "name": "python3",
   "display_name": "Python 3.9.1 64-bit ('venv': venv)"
  },
  "interpreter": {
   "hash": "23d9e36b628d934da90c16338a478d034916887b16023bfdde011846278a1b55"
  }
 },
 "nbformat": 4,
 "nbformat_minor": 2
}